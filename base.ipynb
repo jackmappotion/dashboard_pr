{
 "cells": [
  {
   "cell_type": "code",
   "execution_count": 2,
   "metadata": {},
   "outputs": [],
   "source": [
    "import pandas as pd"
   ]
  },
  {
   "cell_type": "code",
   "execution_count": 3,
   "metadata": {},
   "outputs": [],
   "source": [
    "raw_df = pd.read_csv(\"./data/data.csv\", encoding=\"cp949\")\n",
    "df = raw_df.copy()"
   ]
  },
  {
   "cell_type": "code",
   "execution_count": 4,
   "metadata": {},
   "outputs": [],
   "source": [
    "time_columns=['5시30분', '6시00분', '6시30분','7시00분', '7시30분', '8시00분', '8시30분', '9시00분', '9시30분', \n",
    " '10시00분', '10시30분', '11시00분', '11시30분', '12시00분', '12시30분', '13시00분', '13시30분',\n",
    " '14시00분', '14시30분', '15시00분', '15시30분', '16시00분', '16시30분', '17시00분','17시30분',\n",
    " '18시00분', '18시30분', '19시00분', '19시30분', '20시00분', '20시30분','21시00분', '21시30분',\n",
    " '22시00분', '22시30분', '23시00분', '23시30분', '00시00분','00시30분', '01시00분']"
   ]
  },
  {
   "cell_type": "code",
   "execution_count": 5,
   "metadata": {},
   "outputs": [],
   "source": [
    "df = df.fillna(0)\n",
    "# df_weekday = df[df[\"요일구분\"] == \"평일\"]"
   ]
  },
  {
   "cell_type": "code",
   "execution_count": 6,
   "metadata": {},
   "outputs": [],
   "source": [
    "# options\n",
    "weekday_type = \"평일\"\n",
    "line_number = 1\n",
    "station_name = \"서울역\"\n",
    "way = \"상선\""
   ]
  },
  {
   "cell_type": "code",
   "execution_count": 7,
   "metadata": {},
   "outputs": [],
   "source": [
    "def find_station_number(df, weekday_type, line_number, station_name, way):\n",
    "    station_number = df[\n",
    "        (df[\"요일구분\"] == weekday_type)\n",
    "        & (df[\"호선\"] == line_number)\n",
    "        & (df[\"출발역\"] == station_name)\n",
    "        & (df[\"상하구분\"] == way)\n",
    "    ][\"역번호\"].iloc[0]\n",
    "    return station_number\n",
    "\n",
    "\n",
    "################################################################\n",
    "\n",
    "station_number = find_station_number(\n",
    "    df, weekday_type, line_number, station_name, way\n",
    ")"
   ]
  },
  {
   "cell_type": "code",
   "execution_count": 8,
   "metadata": {},
   "outputs": [],
   "source": [
    "def get_station_numbers(station_number, way):\n",
    "    if way == \"상선\":\n",
    "        station_numbers = [station_number + i for i in range(-1, 5)]\n",
    "    elif way == \"하선\":\n",
    "        station_numbers = [station_number - i for i in range(-1, 5)]\n",
    "    return station_numbers\n",
    "\n",
    "\n",
    "################################################################\n",
    "\n",
    "station_numbers = get_station_numbers(station_number, way)"
   ]
  },
  {
   "cell_type": "code",
   "execution_count": 9,
   "metadata": {},
   "outputs": [],
   "source": [
    "def filter_using_df(df, station_numbers, way, weekday_type):\n",
    "    using_df = df[\n",
    "        (df[\"역번호\"].isin(station_numbers))\n",
    "        & (df[\"상하구분\"] == way)\n",
    "        & (df[\"요일구분\"] == weekday_type)\n",
    "    ].copy()\n",
    "    if way == \"상선\":\n",
    "        using_df.sort_values(\"역번호\", inplace=True)\n",
    "\n",
    "    elif way == \"하선\":\n",
    "        using_df.sort_values(\"역번호\", ascending=False, inplace=True)\n",
    "    return using_df\n",
    "\n",
    "\n",
    "################################################################\n",
    "\n",
    "using_df = filter_using_df(df, station_numbers, way, weekday_type)"
   ]
  },
  {
   "cell_type": "code",
   "execution_count": 10,
   "metadata": {},
   "outputs": [],
   "source": [
    "def format_final_df(using_df):\n",
    "    final_df = using_df.set_index(\"출발역\").loc[:, time_columns].T\n",
    "    return final_df\n",
    "\n",
    "\n",
    "################################################################\n",
    "\n",
    "final_df = format_final_df(using_df)"
   ]
  },
  {
   "cell_type": "code",
   "execution_count": 12,
   "metadata": {},
   "outputs": [],
   "source": [
    "final_df.head(10).to_clipboard()"
   ]
  },
  {
   "cell_type": "code",
   "execution_count": null,
   "metadata": {},
   "outputs": [],
   "source": []
  }
 ],
 "metadata": {
  "kernelspec": {
   "display_name": "quant_trading",
   "language": "python",
   "name": "python3"
  },
  "language_info": {
   "codemirror_mode": {
    "name": "ipython",
    "version": 3
   },
   "file_extension": ".py",
   "mimetype": "text/x-python",
   "name": "python",
   "nbconvert_exporter": "python",
   "pygments_lexer": "ipython3",
   "version": "3.10.13"
  }
 },
 "nbformat": 4,
 "nbformat_minor": 2
}
